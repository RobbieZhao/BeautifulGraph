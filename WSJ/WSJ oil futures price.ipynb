{
 "cells": [
  {
   "cell_type": "markdown",
   "metadata": {},
   "source": [
    "## The original graph is from the Wall Street Journal\n",
    "#### Here is the link: https://www.wsj.com/articles/why-oil-is-11-a-barrel-now-but-three-times-that-in-autumn-11587392745"
   ]
  },
  {
   "cell_type": "code",
   "execution_count": 1,
   "metadata": {},
   "outputs": [],
   "source": [
    "from matplotlib.lines import Line2D\n",
    "import matplotlib.pyplot as plt\n",
    "from pandas import DataFrame\n",
    "import pandas as pd\n",
    "import numpy as np"
   ]
  },
  {
   "cell_type": "code",
   "execution_count": 2,
   "metadata": {
    "scrolled": false
   },
   "outputs": [
    {
     "data": {
      "text/html": [
       "<div>\n",
       "<style scoped>\n",
       "    .dataframe tbody tr th:only-of-type {\n",
       "        vertical-align: middle;\n",
       "    }\n",
       "\n",
       "    .dataframe tbody tr th {\n",
       "        vertical-align: top;\n",
       "    }\n",
       "\n",
       "    .dataframe thead th {\n",
       "        text-align: right;\n",
       "    }\n",
       "</style>\n",
       "<table border=\"1\" class=\"dataframe\">\n",
       "  <thead>\n",
       "    <tr style=\"text-align: right;\">\n",
       "      <th></th>\n",
       "      <th>Brent</th>\n",
       "      <th>WTI</th>\n",
       "    </tr>\n",
       "  </thead>\n",
       "  <tbody>\n",
       "    <tr>\n",
       "      <th>0</th>\n",
       "      <td>25.57</td>\n",
       "      <td>-37.63</td>\n",
       "    </tr>\n",
       "    <tr>\n",
       "      <th>1</th>\n",
       "      <td>29.21</td>\n",
       "      <td>20.43</td>\n",
       "    </tr>\n",
       "    <tr>\n",
       "      <th>2</th>\n",
       "      <td>31.51</td>\n",
       "      <td>26.28</td>\n",
       "    </tr>\n",
       "    <tr>\n",
       "      <th>3</th>\n",
       "      <td>33.33</td>\n",
       "      <td>28.51</td>\n",
       "    </tr>\n",
       "    <tr>\n",
       "      <th>4</th>\n",
       "      <td>34.75</td>\n",
       "      <td>29.84</td>\n",
       "    </tr>\n",
       "    <tr>\n",
       "      <th>5</th>\n",
       "      <td>35.71</td>\n",
       "      <td>30.81</td>\n",
       "    </tr>\n",
       "    <tr>\n",
       "      <th>6</th>\n",
       "      <td>36.39</td>\n",
       "      <td>31.66</td>\n",
       "    </tr>\n",
       "    <tr>\n",
       "      <th>7</th>\n",
       "      <td>37.00</td>\n",
       "      <td>32.41</td>\n",
       "    </tr>\n",
       "    <tr>\n",
       "      <th>8</th>\n",
       "      <td>37.55</td>\n",
       "      <td>33.02</td>\n",
       "    </tr>\n",
       "    <tr>\n",
       "      <th>9</th>\n",
       "      <td>38.07</td>\n",
       "      <td>33.53</td>\n",
       "    </tr>\n",
       "    <tr>\n",
       "      <th>10</th>\n",
       "      <td>38.45</td>\n",
       "      <td>33.98</td>\n",
       "    </tr>\n",
       "    <tr>\n",
       "      <th>11</th>\n",
       "      <td>38.81</td>\n",
       "      <td>34.35</td>\n",
       "    </tr>\n",
       "    <tr>\n",
       "      <th>12</th>\n",
       "      <td>39.14</td>\n",
       "      <td>34.68</td>\n",
       "    </tr>\n",
       "  </tbody>\n",
       "</table>\n",
       "</div>"
      ],
      "text/plain": [
       "    Brent    WTI\n",
       "0   25.57 -37.63\n",
       "1   29.21  20.43\n",
       "2   31.51  26.28\n",
       "3   33.33  28.51\n",
       "4   34.75  29.84\n",
       "5   35.71  30.81\n",
       "6   36.39  31.66\n",
       "7   37.00  32.41\n",
       "8   37.55  33.02\n",
       "9   38.07  33.53\n",
       "10  38.45  33.98\n",
       "11  38.81  34.35\n",
       "12  39.14  34.68"
      ]
     },
     "execution_count": 2,
     "metadata": {},
     "output_type": "execute_result"
    }
   ],
   "source": [
    "data = DataFrame()\n",
    "\n",
    "# This is the data we are using\n",
    "data['Brent'] = [25.57, 29.21, 31.51, 33.33, 34.75, 35.71, 36.39, 37.0, 37.55, 38.07, 38.45, 38.81, 39.14]\n",
    "data['WTI'] = [-37.63, 20.43, 26.28, 28.51, 29.84, 30.81, 31.66, 32.41, 33.02, 33.53, 33.98, 34.35, 34.68]\n",
    "\n",
    "data"
   ]
  },
  {
   "cell_type": "markdown",
   "metadata": {},
   "source": [
    "### If you prefer reading from a file, here is the content of the file\n",
    "\n",
    "Brent,WTI<br>\n",
    "25.57,-37.63<br>\n",
    "29.21,20.43<br>\n",
    "31.51,26.28<br>\n",
    "33.33,28.51<br>\n",
    "34.75,29.84<br>\n",
    "35.71,30.81<br>\n",
    "36.39,31.66<br>\n",
    "37,32.41<br>\n",
    "37.55,33.02<br>\n",
    "38.07,33.53<br>\n",
    "38.45,33.98<br>\n",
    "38.81,34.35<br>\n",
    "39.14,34.68<br>\n",
    "\n",
    "#### copy the data into a empty file and save it as 'data.csv', then use the following to read from the file: \n",
    "    data = pd.read_csv('data.csv')"
   ]
  },
  {
   "cell_type": "code",
   "execution_count": 3,
   "metadata": {
    "scrolled": false
   },
   "outputs": [
    {
     "data": {
      "image/png": "[encoded data removed]",
      "text/plain": [
       "<Figure size 504x576 with 1 Axes>"
      ]
     },
     "metadata": {
      "needs_background": "light"
     },
     "output_type": "display_data"
    }
   ],
   "source": [
    "########################## Create the graph #########################\n",
    "# figsize specifies the size of the plot\n",
    "# figsize=(7,8) is a graph of width 7 and height 8\n",
    "fig = plt.figure(figsize=(7,8))\n",
    "ax = fig.add_subplot()\n",
    "\n",
    "\n",
    "########################## Deletes the border of the graph #########################\n",
    "ax.spines['top'].set_visible(False)\n",
    "ax.spines['right'].set_visible(False)\n",
    "ax.spines['bottom'].set_visible(False)\n",
    "ax.spines['left'].set_visible(False)\n",
    "\n",
    "\n",
    "########################## Draw the lines with specified style ##########################\n",
    "ax.plot(data[\"Brent\"], 'o-', color='#95cbee', linewidth=2)\n",
    "ax.plot(data[\"WTI\"], 'o-', color='#0079ae', linewidth=2)\n",
    "\n",
    "\n",
    "########################## Ddd horizontal grid lines ##########################\n",
    "ax.grid(axis='y', color='#e6e6e6')\n",
    "# adjust the color of the x-axis (notice that it's different from other grid lines)\n",
    "ax.get_ygridlines()[5].set_color('#030303')\n",
    "\n",
    "\n",
    "\n",
    "########################## Adjust the x and the y ticks ##########################\n",
    "########################## (This part is a huge pain) ############################\n",
    "# one little comment: This is the part that I don't quite understand yet, somehow you have to \n",
    "#                     start the label with index 1 (which is the second label). But in general\n",
    "#                     the first step would be to adjust the number of ticks, and then change \n",
    "#                     the corresponding labels\n",
    "\n",
    "########################## part 1: Adjust the x ticks ##########################\n",
    "ax.set_xticks(ax.get_xticks()[1::2])\n",
    "labels = ['May ’20', 'Sept.', 'Jan. ’21', 'May']\n",
    "ax.set_xticklabels(labels)\n",
    "\n",
    "ax.xaxis.set_tick_params(labelsize=12, color='#333333')\n",
    "\n",
    "\n",
    "########################## part 2: Adjust the y ticks ##########################\n",
    "yticks = ['-50', '-40', '-30', '-20', '-10', '0', '10', '20', '30', '$40 a barrel']\n",
    "ax.set_yticklabels(yticks)\n",
    "# length is to specify the length of the small dashed lines on the left of each grid line\n",
    "ax.yaxis.set_tick_params(labelsize=12, color='#333333', length=0)\n",
    "\n",
    "# adjust the position of y tick labels\n",
    "for tick in ax.yaxis.get_majorticklabels():\n",
    "    tick.set_verticalalignment(\"bottom\")\n",
    "\n",
    "for tick in ax.yaxis.get_major_ticks():\n",
    "    tick.set_pad(-10)\n",
    "ax.yaxis.get_major_ticks()[-2].set_pad(-63) # the position of '$40 a barrel'\n",
    "ax.yaxis.get_major_ticks()[5].set_pad(-6) # the position of '0'\n",
    "\n",
    "\n",
    "########################## Add the legend ##########################\n",
    "rect1 = Line2D([], [], marker=\"s\", markersize=15, linewidth=0, color=\"#0079ae\")\n",
    "rect2 = Line2D([], [], marker=\"s\", markersize=15, linewidth=0, color=\"#95cbee\")\n",
    "ax.legend((rect1, rect2), ('West Texas Intermediate', 'Brent'), ncol=2, frameon=False, bbox_to_anchor=(0.95, 1.1), fontsize=15)\n",
    "\n",
    "\n",
    "plt.show()"
   ]
  },
  {
   "cell_type": "code",
   "execution_count": 4,
   "metadata": {},
   "outputs": [],
   "source": [
    "fig.savefig('graph.png', dpi=100)"
   ]
  },
  {
   "cell_type": "markdown",
   "metadata": {},
   "source": [
    "#### Weakness: \n",
    " 1. Failed to stick the vertical dashes above the x ticks to the grid lines<br>\n",
    " 2. The square box of the legend are not close to their labels"
   ]
  },
  {
   "cell_type": "code",
   "execution_count": null,
   "metadata": {},
   "outputs": [],
   "source": []
  }
 ],
 "metadata": {
  "kernelspec": {
   "display_name": "Python 3",
   "language": "python",
   "name": "python3"
  },
  "language_info": {
   "codemirror_mode": {
    "name": "ipython",
    "version": 3
   },
   "file_extension": ".py",
   "mimetype": "text/x-python",
   "name": "python",
   "nbconvert_exporter": "python",
   "pygments_lexer": "ipython3",
   "version": "3.7.5"
  }
 },
 "nbformat": 4,
 "nbformat_minor": 4
}
